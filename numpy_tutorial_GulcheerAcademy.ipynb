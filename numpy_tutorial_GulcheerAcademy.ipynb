{
  "nbformat": 4,
  "nbformat_minor": 0,
  "metadata": {
    "colab": {
      "provenance": [],
      "authorship_tag": "ABX9TyPfqBUyejH3Ko6MJXLxQRzW",
      "include_colab_link": true
    },
    "kernelspec": {
      "name": "python3",
      "display_name": "Python 3"
    },
    "language_info": {
      "name": "python"
    }
  },
  "cells": [
    {
      "cell_type": "markdown",
      "metadata": {
        "id": "view-in-github",
        "colab_type": "text"
      },
      "source": [
        "<a href=\"https://colab.research.google.com/github/Khosiyat/500-S-P-capital-Prediction/blob/main/numpy_tutorial_GulcheerAcademy.ipynb\" target=\"_parent\"><img src=\"https://colab.research.google.com/assets/colab-badge.svg\" alt=\"Open In Colab\"/></a>"
      ]
    },
    {
      "cell_type": "code",
      "source": [
        "import numpy"
      ],
      "metadata": {
        "id": "KYAbHQyRAEJl"
      },
      "execution_count": 2,
      "outputs": []
    },
    {
      "cell_type": "markdown",
      "source": [
        "Video 1 Numpy array"
      ],
      "metadata": {
        "id": "ncrtIw55AEhX"
      }
    },
    {
      "cell_type": "code",
      "source": [],
      "metadata": {
        "id": "j9vf5ruN_9i_"
      },
      "execution_count": null,
      "outputs": []
    },
    {
      "cell_type": "markdown",
      "source": [
        "Video 2 Numpy Matrix"
      ],
      "metadata": {
        "id": "oGA1scF_AMEX"
      }
    },
    {
      "cell_type": "code",
      "source": [],
      "metadata": {
        "id": "RApKO07sAM_G"
      },
      "execution_count": null,
      "outputs": []
    }
  ]
}